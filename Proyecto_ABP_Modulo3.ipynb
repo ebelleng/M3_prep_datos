{
 "cells": [
  {
   "cell_type": "markdown",
   "id": "03aad4c2",
   "metadata": {},
   "source": [
    "# 🧠 Proyecto ABP - Módulo 3: Obtención y preparación de datos"
   ]
  },
  {
   "cell_type": "markdown",
   "id": "c7d55ffd",
   "metadata": {},
   "source": [
    "### 📍 Situación\n",
    "El equipo de analítica de una empresa de e-commerce necesita estructurar un conjunto de datos desde archivos CSV, Excel y páginas web para dejarlos listos para análisis y modelos predictivos. Este proyecto sigue 6 lecciones para llegar a un dataset limpio y estructurado.\n"
   ]
  },
  {
   "cell_type": "markdown",
   "id": "36457ff7",
   "metadata": {},
   "source": [
    "### 🔧 Lección 1 - Generación de datos con NumPy"
   ]
  },
  {
   "cell_type": "code",
   "execution_count": 1,
   "id": "be8396b5",
   "metadata": {},
   "outputs": [
    {
     "name": "stdout",
     "output_type": "stream",
     "text": [
      "Total de compras: 24\n",
      "Monto promedio: 101880.00700000001\n"
     ]
    }
   ],
   "source": [
    "import numpy as np\n",
    "\n",
    "# Crear arrays ficticios\n",
    "clientes_id = np.arange(1000, 1010)\n",
    "compras = np.random.randint(1, 5, size=10)\n",
    "montos = np.random.uniform(10000, 200000, size=10).round(2)\n",
    "\n",
    "# Guardar en archivo .npy\n",
    "np.save('datos_clientes.npy', [clientes_id, compras, montos])\n",
    "\n",
    "# Ver ejemplo de operaciones\n",
    "print(\"Total de compras:\", np.sum(compras))\n",
    "print(\"Monto promedio:\", np.mean(montos))\n"
   ]
  },
  {
   "cell_type": "markdown",
   "id": "4295e44e",
   "metadata": {},
   "source": [
    "### 📄 Lección 2 - Exploración inicial con Pandas"
   ]
  },
  {
   "cell_type": "code",
   "execution_count": 2,
   "id": "12f47df0",
   "metadata": {},
   "outputs": [
    {
     "name": "stdout",
     "output_type": "stream",
     "text": [
      "   ClienteID  Compras  MontoTotal\n",
      "0     1000.0      2.0   126942.84\n",
      "1     1001.0      4.0    10183.73\n",
      "2     1002.0      1.0   193356.46\n",
      "3     1003.0      2.0   132348.04\n",
      "4     1004.0      1.0   158004.77\n",
      "        ClienteID    Compras     MontoTotal\n",
      "count    10.00000  10.000000      10.000000\n",
      "mean   1004.50000   2.400000  101880.007000\n",
      "std       3.02765   1.074968   57888.398005\n",
      "min    1000.00000   1.000000   10183.730000\n",
      "25%    1002.25000   2.000000   66034.865000\n",
      "50%    1004.50000   2.000000  101443.750000\n",
      "75%    1006.75000   3.000000  142973.470000\n",
      "max    1009.00000   4.000000  193356.460000\n",
      "   ClienteID  Compras  MontoTotal\n",
      "2     1002.0      1.0   193356.46\n",
      "4     1004.0      1.0   158004.77\n"
     ]
    }
   ],
   "source": [
    "import pandas as pd\n",
    "\n",
    "# Cargar datos desde archivo NumPy\n",
    "clientes_id, compras, montos = np.load('datos_clientes.npy', allow_pickle=True)\n",
    "df = pd.DataFrame({\n",
    "    \"ClienteID\": clientes_id,\n",
    "    \"Compras\": compras,\n",
    "    \"MontoTotal\": montos\n",
    "})\n",
    "\n",
    "# Exploración básica\n",
    "print(df.head())\n",
    "print(df.describe())\n",
    "print(df[df[\"MontoTotal\"] > 150000])\n",
    "\n",
    "# Guardar como CSV\n",
    "df.to_csv(\"clientes_datos.csv\", index=False)\n"
   ]
  },
  {
   "cell_type": "markdown",
   "id": "70551211",
   "metadata": {},
   "source": [
    "### 📑 Lección 3 - Integración de fuentes (CSV, Excel y Web)"
   ]
  },
  {
   "cell_type": "code",
   "execution_count": 3,
   "id": "56a9e707",
   "metadata": {},
   "outputs": [],
   "source": [
    "# CSV\n",
    "df_csv = pd.read_csv(\"clientes_datos.csv\")\n",
    "\n",
    "# Excel (simulación)\n",
    "df_excel = pd.DataFrame({\n",
    "    \"ClienteID\": [1000, 1001, 1002],\n",
    "    \"Ciudad\": [\"Santiago\", \"Valparaíso\", \"Concepción\"]\n",
    "})\n",
    "df_excel.to_excel(\"info_adicional.xlsx\", index=False)\n",
    "df_excel = pd.read_excel(\"info_adicional.xlsx\")\n",
    "\n",
    "# Web (simulación con tabla simple)\n",
    "from io import StringIO\n",
    "\n",
    "html = \"\"\"\n",
    "<table>\n",
    "<tr><th>ClienteID</th><th>Segmento</th></tr>\n",
    "<tr><td>1000</td><td>Premium</td></tr>\n",
    "<tr><td>1001</td><td>Estándar</td></tr>\n",
    "</table>\n",
    "\"\"\"\n",
    "df_web = pd.read_html(StringIO(html))[0]\n",
    "\n",
    "# Merge final\n",
    "df_merge = df_csv.merge(df_excel, on=\"ClienteID\", how=\"left\").merge(df_web, on=\"ClienteID\", how=\"left\")\n",
    "df_merge.to_csv(\"clientes_consolidados.csv\", index=False)\n"
   ]
  },
  {
   "cell_type": "markdown",
   "id": "e1aeacb8",
   "metadata": {},
   "source": [
    "### 🧼 Lección 4 - Valores nulos y outliers"
   ]
  },
  {
   "cell_type": "code",
   "execution_count": 4,
   "id": "bbb7cd54",
   "metadata": {},
   "outputs": [
    {
     "name": "stdout",
     "output_type": "stream",
     "text": [
      "ClienteID     0\n",
      "Compras       0\n",
      "MontoTotal    0\n",
      "Ciudad        7\n",
      "Segmento      8\n",
      "dtype: int64\n"
     ]
    }
   ],
   "source": [
    "# Revisión de valores nulos\n",
    "print(df_merge.isnull().sum())\n",
    "\n",
    "# Imputar segmento faltante como \"Desconocido\"\n",
    "df_merge[\"Segmento\"].fillna(\"Desconocido\", inplace=True)\n",
    "\n",
    "# Detección de outliers (Z-score)\n",
    "from scipy.stats import zscore\n",
    "df_merge[\"Z_Monto\"] = zscore(df_merge[\"MontoTotal\"])\n",
    "df_sin_outliers = df_merge[df_merge[\"Z_Monto\"].abs() < 3]\n",
    "df_sin_outliers.drop(columns=\"Z_Monto\", inplace=True)\n",
    "\n",
    "# Guardar resultado\n",
    "df_sin_outliers.to_csv(\"clientes_limpios.csv\", index=False)\n"
   ]
  },
  {
   "cell_type": "markdown",
   "id": "890be943",
   "metadata": {},
   "source": [
    "### 🧹 Lección 5 - Data Wrangling"
   ]
  },
  {
   "cell_type": "code",
   "execution_count": 5,
   "id": "636829ff",
   "metadata": {},
   "outputs": [],
   "source": [
    "# Convertir tipos si es necesario\n",
    "df_wrangle = df_sin_outliers.copy()\n",
    "df_wrangle[\"Compras\"] = df_wrangle[\"Compras\"].astype(\"int\")\n",
    "\n",
    "# Nueva columna\n",
    "df_wrangle[\"PromedioCompra\"] = (df_wrangle[\"MontoTotal\"] / df_wrangle[\"Compras\"]).round(2)\n",
    "\n",
    "# Usar lambda/map\n",
    "df_wrangle[\"TipoCliente\"] = df_wrangle[\"Compras\"].map(lambda x: \"Frecuente\" if x > 2 else \"Ocasional\")\n",
    "\n",
    "# Guardar\n",
    "df_wrangle.to_csv(\"clientes_wrangle.csv\", index=False)\n"
   ]
  },
  {
   "cell_type": "markdown",
   "id": "6501c331",
   "metadata": {},
   "source": [
    "### 📊 Lección 6 - Agrupamiento y pivoteo"
   ]
  },
  {
   "cell_type": "code",
   "execution_count": 6,
   "id": "55049c26",
   "metadata": {},
   "outputs": [],
   "source": [
    "# Agrupamiento por ciudad\n",
    "resumen = df_wrangle.groupby(\"Ciudad\").agg({\n",
    "    \"MontoTotal\": [\"mean\", \"sum\"],\n",
    "    \"Compras\": \"sum\"\n",
    "}).round(2)\n",
    "\n",
    "# Pivot (si fuera necesario)\n",
    "pivot = df_wrangle.pivot_table(values=\"MontoTotal\", index=\"Ciudad\", columns=\"Segmento\", aggfunc=\"mean\")\n",
    "\n",
    "# Melt de ejemplo\n",
    "melted = pd.melt(df_wrangle, id_vars=[\"ClienteID\"], value_vars=[\"MontoTotal\", \"PromedioCompra\"])\n",
    "\n",
    "# Guardar resultados\n",
    "df_wrangle.to_excel(\"clientes_final.xlsx\", index=False)\n"
   ]
  },
  {
   "cell_type": "markdown",
   "id": "0b4d1cce",
   "metadata": {},
   "source": [
    "### 📝 Documento resumen\n",
    "\n",
    "#### Herramientas utilizadas:\n",
    "- NumPy para la generación y procesamiento eficiente de arrays numéricos.\n",
    "- Pandas para exploración, manipulación, limpieza y exportación de datos.\n",
    "\n",
    "#### Fuentes de datos:\n",
    "- CSV: Datos de clientes.\n",
    "- Excel: Información adicional como ciudad.\n",
    "- Web: Segmento de clientes (simulada).\n",
    "\n",
    "#### Procesamiento:\n",
    "- Se detectaron y trataron valores nulos (`fillna`).\n",
    "- Se eliminaron outliers con Z-score.\n",
    "- Se transformaron tipos de datos y se agregaron nuevas columnas con `apply`, `map`, `lambda`.\n",
    "- Se agruparon datos y se usó `pivot` y `melt` para reestructuración.\n",
    "\n",
    "#### Resultado:\n",
    "- Dataset final limpio, exportado como CSV y Excel, listo para modelos predictivos o dashboards.\n"
   ]
  }
 ],
 "metadata": {
  "kernelspec": {
   "display_name": "Python 3",
   "language": "python",
   "name": "python3"
  },
  "language_info": {
   "codemirror_mode": {
    "name": "ipython",
    "version": 3
   },
   "file_extension": ".py",
   "mimetype": "text/x-python",
   "name": "python",
   "nbconvert_exporter": "python",
   "pygments_lexer": "ipython3",
   "version": "3.12.1"
  }
 },
 "nbformat": 4,
 "nbformat_minor": 5
}
